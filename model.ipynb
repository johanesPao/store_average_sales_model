{
 "cells": [
  {
   "attachments": {},
   "cell_type": "markdown",
   "metadata": {},
   "source": [
    "# Store Sales Average Model\n",
    "---\n",
    "Notebook ini merupakan studi mengenai hubungan antara Jenis Bangunan, Kelas Bangunan, Lokasi Kabupaten/Kota dan Luas Area Toko dalam men-generate penjualan per bulan di PT Prestasi Retail Innovation.\n",
    "- Jenis Bangunan: Merupakan satu dari tiga tipe bangunan diantaranya Mall (M), Ruko (R) dan Bangunan Sendiri (S)\n",
    "- Kelas Bangunan: Merupakan kelas dari tipe bangunan tersebut dalam men-generate sales. Misalkan Mall Grand Indonesia adalah Mall Kelas 1 (M1) sedangkan Gandaria City adalah Mall Kelas 4 (M4). Berikut adalah Kelas Bangunan yang ada.\n",
    "  - Mall Kelas 1 (M1)\n",
    "  - Mall Kelas 2 (M2)\n",
    "  - Mall Kelas 3 (M3)\n",
    "  - Mall Kelas 4 (M4)\n",
    "  - Mall Kelas 5 (M5)\n",
    "  - Ruko Kelas 1 (R1)\n",
    "  - Ruko Kelas 2 (R2)\n",
    "  - Ruko Kelas 3 (R3)\n",
    "  - Ruko Kelas 4 (R4)\n",
    "  - Ruko Kelas 5 (R5)\n",
    "  - Bangunan Sendiri Kelas 1 (S1)\n",
    "  - Bangunan Sendiri Kelas 2 (S2)\n",
    "  - Bangunan Sendiri Kelas 3 (S3)\n",
    "  - Bangunan Sendiri Kelas 4 (S4)\n",
    "  - Bangunan Sendiri Kelas 5 (S5)\n",
    "- Lokasi Kabupaten/Kota adalah lokasi geografis dari toko\n",
    "- Luas Area Toko adalah luas meter persegi dari toko\n",
    "---\n",
    "Studi ini akan menggunakan Regresi Linear dalam merumuskan nilai Average Sales ($y$) yang dipengaruhi oleh variabel - variabel independen lainnya seperti Jenis Bangunan $x{_1}$, Kelas Bangunan $x{_2}$, Lokasi Kabupaten/Kota ($x{_3}$) dan Luas Area Toko ($x{_4}$). Berikut adalah formulasi Regresi Linear untuk permasalahan tersebut:  \n",
    "  \n",
    "$\n",
    "y = ax{_1} + bx{_2} + cx{_3} + dx{_4} + e\n",
    "$  \n",
    "  \n",
    "Dimana:  \n",
    "$y$ = Prediksi Average Sales  \n",
    "$a$ = Koefisien variabel independen $x{_1}$  \n",
    "$b$ = Koefisien variabel independen $x{_2}$  \n",
    "$c$ = Koefisien variabel independen $x{_3}$  \n",
    "$d$ = Koefisien variabel independen $x{_4}$  \n",
    "$e$ = Bias dari Regresi Linear \n",
    "$x{_1}$ = Variabel independen mewakili Jenis Bangunan  \n",
    "$x{_2}$ = Variabel independen mewakili Kelas Bangunan  \n",
    "$x{_3}$ = Variabel independen mewakili Lokasi Kabupaten/Kota  \n",
    "$x{_4}$ = Variabel independen mewakili Luas Area Toko  "
   ]
  },
  {
   "attachments": {},
   "cell_type": "markdown",
   "metadata": {},
   "source": [
    "### Import Modul"
   ]
  },
  {
   "cell_type": "code",
   "execution_count": null,
   "metadata": {},
   "outputs": [],
   "source": [
    "import pandas as pd\n",
    "import numpy as np\n",
    "import tensorflow as tf\n",
    "import matplotlib.pyplot as plt"
   ]
  },
  {
   "attachments": {},
   "cell_type": "markdown",
   "metadata": {},
   "source": [
    "### Versi Tensorflow"
   ]
  },
  {
   "cell_type": "code",
   "execution_count": null,
   "metadata": {},
   "outputs": [],
   "source": [
    "print(tf.__version__)\n",
    "print(tf.config.list_physical_devices('CPU'))"
   ]
  },
  {
   "attachments": {},
   "cell_type": "markdown",
   "metadata": {},
   "source": [
    "## Eksplorasi Data\n",
    "---"
   ]
  },
  {
   "attachments": {},
   "cell_type": "markdown",
   "metadata": {},
   "source": [
    "### Atribut Dasar Toko\n",
    "Berikut adalah beberapa data atribut dasar toko yang saat ini dimiliki."
   ]
  },
  {
   "cell_type": "code",
   "execution_count": null,
   "metadata": {},
   "outputs": [],
   "source": [
    "data_toko = pd.read_excel(\"PRI - Store Renov  Rent.xlsx\", sheet_name=0, header=0)\n",
    "print(data_toko.to_string())"
   ]
  },
  {
   "attachments": {},
   "cell_type": "markdown",
   "metadata": {},
   "source": [
    "#### Luas Area Toko (sqm)"
   ]
  },
  {
   "cell_type": "code",
   "execution_count": null,
   "metadata": {},
   "outputs": [],
   "source": [
    "data_luas = data_toko[\"sqm\"]\n",
    "hitung, bin = np.histogram(data_luas)\n",
    "print(hitung, bin)"
   ]
  },
  {
   "cell_type": "code",
   "execution_count": null,
   "metadata": {},
   "outputs": [],
   "source": [
    "plt.hist(bin[:-1], weights=hitung)\n",
    "plt.title(\"Persebaran Toko berdasar SQM\")\n",
    "plt.xlabel(\"Square Meters\")\n",
    "plt.ylabel(\"Jumlah Toko\")\n",
    "plt.show()"
   ]
  },
  {
   "attachments": {},
   "cell_type": "markdown",
   "metadata": {},
   "source": [
    "Berdasarkan luasnya (sqm), kita dapat melihat pada fungsi `histogram` di atas bahwa distribusi persebaran luas toko cukup normal dengan 19 Toko jatuh ke dalam kategori luas (sqm) diantara 80.874 $m{^2}$ sampai 119.748 $m{^2}$ dan masing - masing 10 toko jatuh ke dalam kategori luas (sqm) 42 $m{^2}$ sampai 80.874 $m{^2}$ dan 119.748 $m{^2}$ sampai 158.622 $m{^2}$ dengan pengecualian 1 Toko yang jatuh ke dalam kategori luas (sqm) 158.622 $m{^2}$ sampai 197.496 $m{^2}$ serta 1 Toko yang menjadi *outlier* dengan luas yang jatuh ke dalam kategori luas (sqm) 391.866 $m{^2}$ sampai 430.74 $m{^2}$"
   ]
  },
  {
   "attachments": {},
   "cell_type": "markdown",
   "metadata": {},
   "source": [
    "#### Penjualan\n",
    "---\n",
    "Mengingat bahwa data *historical* yang dimiliki terbatas dari tahun 2018 sampai dengan November 2022, serta mengingat bahwa kita mengalami periode pandemi CoV-19 selama lebih dari 1 tahun, maka penulis merasa perlu untuk melakukan separasi data penjualan per bulan menggunakan flag `Pandemic`.\n",
    "  \n",
    "Berikut adalah sepenggal data penjualan *historical* per toko dari tahun 2018 sampai dengan November 2022 (40 baris data awal)."
   ]
  },
  {
   "cell_type": "code",
   "execution_count": null,
   "metadata": {},
   "outputs": [],
   "source": [
    "data_penjualan = pd.read_excel(\"PRI - Store Renov  Rent.xlsx\", sheet_name=\"Sales\", header=0)\n",
    "print(data_penjualan.head(40))"
   ]
  },
  {
   "attachments": {},
   "cell_type": "markdown",
   "metadata": {},
   "source": [
    "Berikut adalah grouping data penjualan *historical* yang disimpan dalam variabel `data_penjualan_by_month`."
   ]
  },
  {
   "cell_type": "code",
   "execution_count": null,
   "metadata": {},
   "outputs": [],
   "source": [
    "data_penjualan_by_month = data_penjualan.groupby([\"EOM\"], ).sum(numeric_only=True)\n",
    "print(data_penjualan_by_month.to_string())"
   ]
  },
  {
   "attachments": {},
   "cell_type": "markdown",
   "metadata": {},
   "source": [
    "Untuk melihat trend pergerakan penjualan dalam kurun waktu ini, kita akan menggunakan `Simple Moving Average` yang akan menghitung rerata secara bergulung untuk interval waktu ke belakang (contoh: Moving Average 3 Bulan untuk Mei 2021 adalah rata - rata penjualan yang merupakan rata - rata dari penjualan di bulan Maret 2021, April 2021 dan Mei 2021).  \n",
    "Namun satu `Moving Average` saja tidak dapat menggambarkan sebuah trend, karena itu kita juga akan menggunakan tambahan 2 interval `Moving Average` lainnya untuk menggambarkan trend pada jangka pendek, jangka menengah dan jangka panjang.  \n",
    "Dalam studi ini kita akan menggunakan 3 `Simple Moving Average` yaitu:\n",
    "* `MA3`: `Moving Average` dengan jendela periode 3 bulan ke belakang (Jangka Pendek)\n",
    "* `MA6`: `Moving Average` dengan jendela periode 6 bulan ke belakang (Jangka Menengah)\n",
    "* `MA12`: `Moving Average` dengan jendela periode 12 bulan atau 1 tahun ke belakang (Jangka Panjang)  \n",
    "Berikut adalah `data_penjualan_by_month` dengan penambahan kolom `MA3`, `MA6` dan `MA12` yang didapat dengan menggunakan fungsi `rolling()` dari `pd.DataFrame` yang dirata-ratakan dengan fungsi `mean()`."
   ]
  },
  {
   "cell_type": "code",
   "execution_count": null,
   "metadata": {},
   "outputs": [],
   "source": [
    "data_penjualan_by_month[\"MA3\"] = data_penjualan_by_month[\"Sales\"].rolling(3).mean()\n",
    "data_penjualan_by_month[\"MA6\"] = data_penjualan_by_month[\"Sales\"].rolling(6).mean()\n",
    "data_penjualan_by_month[\"MA12\"] = data_penjualan_by_month[\"Sales\"].rolling(12).mean()\n",
    "print(data_penjualan_by_month.to_string())"
   ]
  },
  {
   "attachments": {},
   "cell_type": "markdown",
   "metadata": {},
   "source": [
    "Berikut adalah grafik penjualan *historical* dari tahun 2018 sampai dengan November 2022."
   ]
  },
  {
   "cell_type": "code",
   "execution_count": null,
   "metadata": {},
   "outputs": [],
   "source": [
    "plt.plot(data_penjualan_by_month[\"Sales\"])\n",
    "plt.show()"
   ]
  },
  {
   "attachments": {},
   "cell_type": "markdown",
   "metadata": {},
   "source": [
    "Berikut adalah grafik `Moving Average` untuk data penjualan *historical* dari tahun 2018 sampai dengan November 2022."
   ]
  },
  {
   "cell_type": "code",
   "execution_count": null,
   "metadata": {},
   "outputs": [],
   "source": [
    "# plt.plot(data_penjualan_by_month[\"MA3\"], color=\"green\", label=\"MA3\")\n",
    "# plt.plot(data_penjualan_by_month[\"MA6\"], color=\"orange\", label=\"MA6\")\n",
    "# plt.plot(data_penjualan_by_month[\"MA12\"], color=\"red\", label=\"MA12\")\n",
    "# plt.show()\n",
    "fig, ax = plt.subplots()\n",
    "# Plot Moving Average\n",
    "ax.plot(data_penjualan_by_month[\"MA3\"], color=\"green\", label=\"MA3\")\n",
    "ax.plot(data_penjualan_by_month[\"MA6\"], color=\"orange\", label=\"MA6\")\n",
    "ax.plot(data_penjualan_by_month[\"MA12\"], color=\"red\", label=\"MA12\")\n",
    "# Region Section Pandemic\n",
    "ax.fill_between(data_penjualan_by_month.index.values, 0, 28000000000, where=((data_penjualan_by_month.index.values >= np.datetime64('2020-02-29')) & (data_penjualan_by_month.index.values <= np.datetime64('2021-10-31'))), color=\"red\", alpha=0.2)\n",
    "# Region Section Recovery\n",
    "ax.fill_between(data_penjualan_by_month.index.values, 0, 28000000000, where=((data_penjualan_by_month.index.values >= np.datetime64('2021-11-01')) & (data_penjualan_by_month.index.values <= np.datetime64('2022-12-31'))), color=\"green\", alpha=0.2)\n",
    "plt.show()"
   ]
  },
  {
   "cell_type": "code",
   "execution_count": null,
   "metadata": {},
   "outputs": [],
   "source": []
  }
 ],
 "metadata": {
  "kernelspec": {
   "display_name": "env",
   "language": "python",
   "name": "python3"
  },
  "language_info": {
   "codemirror_mode": {
    "name": "ipython",
    "version": 3
   },
   "file_extension": ".py",
   "mimetype": "text/x-python",
   "name": "python",
   "nbconvert_exporter": "python",
   "pygments_lexer": "ipython3",
   "version": "3.11.1"
  },
  "orig_nbformat": 4
 },
 "nbformat": 4,
 "nbformat_minor": 2
}
